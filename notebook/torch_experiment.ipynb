{
 "cells": [
  {
   "cell_type": "code",
   "execution_count": 1,
   "id": "20fecdcb-fe69-44ba-8b3d-e63f377f485d",
   "metadata": {
    "tags": []
   },
   "outputs": [],
   "source": [
    "import torch"
   ]
  },
  {
   "cell_type": "code",
   "execution_count": 2,
   "id": "1673d40f-5dd5-4b31-aca5-91ef3a536f6c",
   "metadata": {
    "tags": []
   },
   "outputs": [],
   "source": [
    "model_parameters = torch.nn.parameter.Parameter(torch.Tensor([1,2,3,4]))"
   ]
  },
  {
   "cell_type": "code",
   "execution_count": 3,
   "id": "3b985c04-6cfc-4377-97e4-4cdaad70685b",
   "metadata": {
    "tags": []
   },
   "outputs": [],
   "source": [
    "master_parameters = list(model_parameters)"
   ]
  },
  {
   "cell_type": "code",
   "execution_count": 4,
   "id": "71d3923e-014c-4229-88ee-f538cd83204c",
   "metadata": {
    "tags": []
   },
   "outputs": [
    {
     "data": {
      "text/plain": [
       "[tensor(1., grad_fn=<UnbindBackward0>),\n",
       " tensor(2., grad_fn=<UnbindBackward0>),\n",
       " tensor(3., grad_fn=<UnbindBackward0>),\n",
       " tensor(4., grad_fn=<UnbindBackward0>)]"
      ]
     },
     "execution_count": 4,
     "metadata": {},
     "output_type": "execute_result"
    }
   ],
   "source": [
    "master_parameters"
   ]
  },
  {
   "cell_type": "code",
   "execution_count": 5,
   "id": "7af2552a-b258-4842-bf8f-93df941dc461",
   "metadata": {
    "tags": []
   },
   "outputs": [],
   "source": [
    "model = torch.nn.Sequential(\n",
    "    torch.nn.Linear(512, 256),\n",
    "    torch.nn.ReLU(),\n",
    "    torch.nn.Linear(256, 128),\n",
    "    torch.nn.Tanh(),\n",
    "    torch.nn.Linear(128, 2),\n",
    "    torch.nn.Sigmoid()\n",
    ")"
   ]
  },
  {
   "cell_type": "code",
   "execution_count": 7,
   "id": "257504e1-0187-44df-af28-48f3ea9eae5b",
   "metadata": {
    "tags": []
   },
   "outputs": [],
   "source": [
    "model_paramters = list(model.parameters())"
   ]
  },
  {
   "cell_type": "code",
   "execution_count": 9,
   "id": "aca1e57f-7289-478b-9882-85bea8c9a4be",
   "metadata": {
    "tags": []
   },
   "outputs": [],
   "source": [
    "master_parameters = model_paramters"
   ]
  },
  {
   "cell_type": "code",
   "execution_count": null,
   "id": "a8ef949b-71c2-477f-91a7-b589e4d990ed",
   "metadata": {},
   "outputs": [],
   "source": []
  }
 ],
 "metadata": {
  "kernelspec": {
   "display_name": "Python 3 (ipykernel)",
   "language": "python",
   "name": "python3"
  },
  "language_info": {
   "codemirror_mode": {
    "name": "ipython",
    "version": 3
   },
   "file_extension": ".py",
   "mimetype": "text/x-python",
   "name": "python",
   "nbconvert_exporter": "python",
   "pygments_lexer": "ipython3",
   "version": "3.8.16"
  }
 },
 "nbformat": 4,
 "nbformat_minor": 5
}
