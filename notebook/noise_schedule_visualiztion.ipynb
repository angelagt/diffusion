{
 "cells": [
  {
   "cell_type": "code",
   "execution_count": 1,
   "id": "a2eadf0f-eec1-490d-a56b-db66739eb17f",
   "metadata": {
    "tags": []
   },
   "outputs": [
    {
     "name": "stdout",
     "output_type": "stream",
     "text": [
      "Collecting pandas\n",
      "  Using cached pandas-1.5.3-cp39-cp39-macosx_11_0_arm64.whl (11.0 MB)\n",
      "Collecting pytz>=2020.1\n",
      "  Downloading pytz-2022.7.1-py2.py3-none-any.whl (499 kB)\n",
      "\u001b[2K     \u001b[38;2;114;156;31m━━━━━━━━━━━━━━━━━━━━━━━━━━━━━━━━━━━━━━━\u001b[0m \u001b[32m499.4/499.4 kB\u001b[0m \u001b[31m1.1 MB/s\u001b[0m eta \u001b[36m0:00:00\u001b[0m[31m2.2 MB/s\u001b[0m eta \u001b[36m0:00:01\u001b[0m\n",
      "\u001b[?25hRequirement already satisfied: python-dateutil>=2.8.1 in /Users/leo/miniconda3/envs/perspective/lib/python3.9/site-packages (from pandas) (2.8.2)\n",
      "Collecting numpy>=1.20.3\n",
      "  Downloading numpy-1.24.2-cp39-cp39-macosx_11_0_arm64.whl (13.9 MB)\n",
      "\u001b[2K     \u001b[38;2;114;156;31m━━━━━━━━━━━━━━━━━━━━━━━━━━━━━━━━━━━━━━━\u001b[0m \u001b[32m13.9/13.9 MB\u001b[0m \u001b[31m520.4 kB/s\u001b[0m eta \u001b[36m0:00:00\u001b[0mm eta \u001b[36m0:00:01\u001b[0m[36m0:00:01\u001b[0m\n",
      "\u001b[?25hRequirement already satisfied: six>=1.5 in /Users/leo/miniconda3/envs/perspective/lib/python3.9/site-packages (from python-dateutil>=2.8.1->pandas) (1.16.0)\n",
      "Installing collected packages: pytz, numpy, pandas\n",
      "Successfully installed numpy-1.24.2 pandas-1.5.3 pytz-2022.7.1\n",
      "Requirement already satisfied: numpy in /Users/leo/miniconda3/envs/perspective/lib/python3.9/site-packages (1.24.2)\n"
     ]
    }
   ],
   "source": [
    "!pip install pandas\n",
    "!pip install numpy"
   ]
  },
  {
   "cell_type": "code",
   "execution_count": 2,
   "id": "0eb9b98c-6f07-4ba7-8a69-d0fe26abbc19",
   "metadata": {
    "tags": []
   },
   "outputs": [],
   "source": [
    "import numpy as np"
   ]
  },
  {
   "cell_type": "code",
   "execution_count": 3,
   "id": "5f81da4b-95dc-40df-8db6-58b91b5f2a21",
   "metadata": {
    "tags": []
   },
   "outputs": [],
   "source": [
    "b1 = 0.0001\n",
    "b2 = 0.02"
   ]
  },
  {
   "cell_type": "code",
   "execution_count": 4,
   "id": "f104e5ae-6652-4718-9a23-ad41d3b62251",
   "metadata": {
    "tags": []
   },
   "outputs": [],
   "source": [
    "T = 1000"
   ]
  },
  {
   "cell_type": "code",
   "execution_count": 5,
   "id": "4aef083a-6d24-4cdb-b3e1-1da167f39650",
   "metadata": {
    "tags": []
   },
   "outputs": [],
   "source": [
    "gap = b2 - b1\n",
    "\n",
    "betas = [(b1 + gap / (T-1)*i) for i in range(T)]"
   ]
  },
  {
   "cell_type": "code",
   "execution_count": 7,
   "id": "5cc938e7-0491-470e-9b32-220bab15487b",
   "metadata": {
    "tags": []
   },
   "outputs": [],
   "source": [
    "betas = np.array(betas)"
   ]
  },
  {
   "cell_type": "code",
   "execution_count": 8,
   "id": "a0cb0d8c-369e-421e-922f-14598182f358",
   "metadata": {
    "tags": []
   },
   "outputs": [],
   "source": [
    "alphas = 1.0 - betas"
   ]
  },
  {
   "cell_type": "code",
   "execution_count": 9,
   "id": "739d53ca-c3e8-4572-b21e-a3d5b6f5aa5c",
   "metadata": {
    "tags": []
   },
   "outputs": [],
   "source": [
    "tilde_alphas = np.cumprod(alphas)"
   ]
  },
  {
   "cell_type": "code",
   "execution_count": 11,
   "id": "04e53281-13b8-475b-948e-b6ca5543daea",
   "metadata": {
    "tags": []
   },
   "outputs": [
    {
     "name": "stdout",
     "output_type": "stream",
     "text": [
      "Collecting matplotlib\n",
      "  Downloading matplotlib-3.7.1-cp39-cp39-macosx_11_0_arm64.whl (7.3 MB)\n",
      "\u001b[2K     \u001b[38;2;114;156;31m━━━━━━━━━━━━━━━━━━━━━━━━━━━━━━━━━━━━━━━━\u001b[0m \u001b[32m7.3/7.3 MB\u001b[0m \u001b[31m7.7 MB/s\u001b[0m eta \u001b[36m0:00:00\u001b[0mm eta \u001b[36m0:00:01\u001b[0m[36m0:00:01\u001b[0m\n",
      "\u001b[?25hCollecting pyparsing>=2.3.1\n",
      "  Using cached pyparsing-3.0.9-py3-none-any.whl (98 kB)\n",
      "Collecting fonttools>=4.22.0\n",
      "  Downloading fonttools-4.39.2-py3-none-any.whl (1.0 MB)\n",
      "\u001b[2K     \u001b[38;2;114;156;31m━━━━━━━━━━━━━━━━━━━━━━━━━━━━━━━━━━━━━━━━\u001b[0m \u001b[32m1.0/1.0 MB\u001b[0m \u001b[31m9.0 MB/s\u001b[0m eta \u001b[36m0:00:00\u001b[0m3 MB/s\u001b[0m eta \u001b[36m0:00:01\u001b[0m01\u001b[0m\n",
      "\u001b[?25hCollecting importlib-resources>=3.2.0\n",
      "  Downloading importlib_resources-5.12.0-py3-none-any.whl (36 kB)\n",
      "Collecting kiwisolver>=1.0.1\n",
      "  Using cached kiwisolver-1.4.4-cp39-cp39-macosx_11_0_arm64.whl (63 kB)\n",
      "Requirement already satisfied: numpy>=1.20 in /Users/leo/miniconda3/envs/perspective/lib/python3.9/site-packages (from matplotlib) (1.24.2)\n",
      "Requirement already satisfied: packaging>=20.0 in /Users/leo/miniconda3/envs/perspective/lib/python3.9/site-packages (from matplotlib) (23.0)\n",
      "Collecting pillow>=6.2.0\n",
      "  Using cached Pillow-9.4.0-cp39-cp39-macosx_11_0_arm64.whl (3.0 MB)\n",
      "Requirement already satisfied: python-dateutil>=2.7 in /Users/leo/miniconda3/envs/perspective/lib/python3.9/site-packages (from matplotlib) (2.8.2)\n",
      "Collecting cycler>=0.10\n",
      "  Using cached cycler-0.11.0-py3-none-any.whl (6.4 kB)\n",
      "Collecting contourpy>=1.0.1\n",
      "  Downloading contourpy-1.0.7-cp39-cp39-macosx_11_0_arm64.whl (229 kB)\n",
      "\u001b[2K     \u001b[38;2;114;156;31m━━━━━━━━━━━━━━━━━━━━━━━━━━━━━━━━━━━━━━━\u001b[0m \u001b[32m229.9/229.9 kB\u001b[0m \u001b[31m9.4 MB/s\u001b[0m eta \u001b[36m0:00:00\u001b[0m\n",
      "\u001b[?25hRequirement already satisfied: zipp>=3.1.0 in /Users/leo/miniconda3/envs/perspective/lib/python3.9/site-packages (from importlib-resources>=3.2.0->matplotlib) (3.15.0)\n",
      "Requirement already satisfied: six>=1.5 in /Users/leo/miniconda3/envs/perspective/lib/python3.9/site-packages (from python-dateutil>=2.7->matplotlib) (1.16.0)\n",
      "Installing collected packages: pyparsing, pillow, kiwisolver, importlib-resources, fonttools, cycler, contourpy, matplotlib\n",
      "Successfully installed contourpy-1.0.7 cycler-0.11.0 fonttools-4.39.2 importlib-resources-5.12.0 kiwisolver-1.4.4 matplotlib-3.7.1 pillow-9.4.0 pyparsing-3.0.9\n"
     ]
    }
   ],
   "source": [
    "!pip install matplotlib"
   ]
  },
  {
   "cell_type": "code",
   "execution_count": 12,
   "id": "e22d5105-714f-4411-9d6a-f7c7d81b4e9f",
   "metadata": {
    "tags": []
   },
   "outputs": [],
   "source": [
    "from matplotlib import pyplot as plt"
   ]
  },
  {
   "cell_type": "code",
   "execution_count": 13,
   "id": "4ec8667d-c7a3-4269-a8c3-d6c848d588e9",
   "metadata": {
    "tags": []
   },
   "outputs": [
    {
     "data": {
      "text/plain": [
       "[<matplotlib.lines.Line2D at 0x1209f0580>]"
      ]
     },
     "execution_count": 13,
     "metadata": {},
     "output_type": "execute_result"
    },
    {
     "data": {
      "image/png": "[encoded data removed]",
      "text/plain": [
       "<Figure size 640x480 with 1 Axes>"
      ]
     },
     "metadata": {},
     "output_type": "display_data"
    }
   ],
   "source": [
    "plt.plot(tilde_alphas)"
   ]
  },
  {
   "cell_type": "code",
   "execution_count": 15,
   "id": "2e632b64-f6f5-4ad8-9f17-5a8419729b73",
   "metadata": {
    "tags": []
   },
   "outputs": [
    {
     "data": {
      "text/plain": [
       "4.035829765375676e-05"
      ]
     },
     "execution_count": 15,
     "metadata": {},
     "output_type": "execute_result"
    }
   ],
   "source": [
    "tilde_alphas[-1]"
   ]
  },
  {
   "cell_type": "code",
   "execution_count": 16,
   "id": "2d633bd4-c07f-4b41-a06e-83e5adcf4ecc",
   "metadata": {
    "tags": []
   },
   "outputs": [],
   "source": [
    "def calculate_tilde_alpha(b1, b2, T):\n",
    "    gap = b2 - b1\n",
    "    betas = [(b1 + gap / (T-1)*i) for i in range(T)]\n",
    "    betas = np.array(betas)\n",
    "    alphas = 1.0 - betas\n",
    "    return np.cumprod(alphas)"
   ]
  },
  {
   "cell_type": "code",
   "execution_count": 20,
   "id": "d3d87089-8591-4ed8-aed1-1d3ff945d057",
   "metadata": {
    "tags": []
   },
   "outputs": [],
   "source": [
    "tilde_alpha_100 = calculate_tilde_alpha(0.0001, 0.2, 100)"
   ]
  },
  {
   "cell_type": "code",
   "execution_count": 21,
   "id": "76f1a15d-aa90-49ac-8969-495e38e5f876",
   "metadata": {
    "tags": []
   },
   "outputs": [
    {
     "data": {
      "text/plain": [
       "[<matplotlib.lines.Line2D at 0x1221526d0>]"
      ]
     },
     "execution_count": 21,
     "metadata": {},
     "output_type": "execute_result"
    },
    {
     "data": {
      "image/png": "[encoded data removed]",
      "text/plain": [
       "<Figure size 640x480 with 1 Axes>"
      ]
     },
     "metadata": {},
     "output_type": "display_data"
    }
   ],
   "source": [
    "plt.plot(tilde_alpha_100)"
   ]
  },
  {
   "cell_type": "code",
   "execution_count": 22,
   "id": "0db1201d-f7f2-459a-9ae9-400809601ad6",
   "metadata": {
    "tags": []
   },
   "outputs": [
    {
     "data": {
      "text/plain": [
       "2.139966547611152e-05"
      ]
     },
     "execution_count": 22,
     "metadata": {},
     "output_type": "execute_result"
    }
   ],
   "source": [
    "tilde_alpha_100[-1]"
   ]
  },
  {
   "cell_type": "code",
   "execution_count": 44,
   "id": "667ef80f-83fb-4d38-96e9-3688f78f000c",
   "metadata": {
    "tags": []
   },
   "outputs": [],
   "source": [
    "tilde_alpha_4 = calculate_tilde_alpha(0.01, 0.999, 4)"
   ]
  },
  {
   "cell_type": "code",
   "execution_count": 45,
   "id": "bab6d830-c500-49c3-a882-7ae57d436c38",
   "metadata": {
    "tags": []
   },
   "outputs": [
    {
     "data": {
      "text/plain": [
       "[<matplotlib.lines.Line2D at 0x1226ae7c0>]"
      ]
     },
     "execution_count": 45,
     "metadata": {},
     "output_type": "execute_result"
    },
    {
     "data": {
      "image/png": "[encoded data removed]",
      "text/plain": [
       "<Figure size 640x480 with 1 Axes>"
      ]
     },
     "metadata": {},
     "output_type": "display_data"
    }
   ],
   "source": [
    "plt.plot(tilde_alpha_4)"
   ]
  },
  {
   "cell_type": "code",
   "execution_count": 46,
   "id": "b1a99021-acde-44c8-b320-633482017103",
   "metadata": {
    "tags": []
   },
   "outputs": [
    {
     "data": {
      "text/plain": [
       "0.0002161667200000002"
      ]
     },
     "execution_count": 46,
     "metadata": {},
     "output_type": "execute_result"
    }
   ],
   "source": [
    "tilde_alpha_4[-1]"
   ]
  },
  {
   "cell_type": "code",
   "execution_count": null,
   "id": "2c85f88b-d36f-4ae9-ad58-99a7a21cbae6",
   "metadata": {},
   "outputs": [],
   "source": []
  }
 ],
 "metadata": {
  "kernelspec": {
   "display_name": "Python 3 (ipykernel)",
   "language": "python",
   "name": "python3"
  },
  "language_info": {
   "codemirror_mode": {
    "name": "ipython",
    "version": 3
   },
   "file_extension": ".py",
   "mimetype": "text/x-python",
   "name": "python",
   "nbconvert_exporter": "python",
   "pygments_lexer": "ipython3",
   "version": "3.8.16"
  }
 },
 "nbformat": 4,
 "nbformat_minor": 5
}
